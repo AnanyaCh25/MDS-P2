{
 "cells": [
  {
   "cell_type": "code",
   "execution_count": 1,
   "metadata": {},
   "outputs": [],
   "source": [
    "import pandas as pd\n",
    "import numpy as np\n",
    "import os\n",
    "import tqdm\n",
    "from tensorflow.keras.models import Sequential\n",
    "from tensorflow.keras.layers import Dense, LSTM, Dropout, Flatten\n",
    "from tensorflow.keras.callbacks import ModelCheckpoint, TensorBoard, EarlyStopping\n",
    "from sklearn.model_selection import train_test_split\n",
    "import datetime"
   ]
  },
  {
   "cell_type": "code",
   "execution_count": 2,
   "metadata": {},
   "outputs": [
    {
     "name": "stdout",
     "output_type": "stream",
     "text": [
      "Requirement already satisfied: tensorflow in c:\\users\\lenovo\\anaconda3\\lib\\site-packages (2.7.0)\n",
      "Requirement already satisfied: keras-preprocessing>=1.1.1 in c:\\users\\lenovo\\anaconda3\\lib\\site-packages (from tensorflow) (1.1.2)\n",
      "Requirement already satisfied: six>=1.12.0 in c:\\users\\lenovo\\anaconda3\\lib\\site-packages (from tensorflow) (1.15.0)\n",
      "Requirement already satisfied: tensorboard~=2.6 in c:\\users\\lenovo\\anaconda3\\lib\\site-packages (from tensorflow) (2.7.0)\n",
      "Requirement already satisfied: typing-extensions>=3.6.6 in c:\\users\\lenovo\\anaconda3\\lib\\site-packages (from tensorflow) (3.7.4.2)\n",
      "Requirement already satisfied: flatbuffers<3.0,>=1.12 in c:\\users\\lenovo\\anaconda3\\lib\\site-packages (from tensorflow) (2.0)\n",
      "Requirement already satisfied: h5py>=2.9.0 in c:\\users\\lenovo\\anaconda3\\lib\\site-packages (from tensorflow) (2.10.0)\n",
      "Requirement already satisfied: termcolor>=1.1.0 in c:\\users\\lenovo\\anaconda3\\lib\\site-packages (from tensorflow) (1.1.0)\n",
      "Requirement already satisfied: google-pasta>=0.1.1 in c:\\users\\lenovo\\anaconda3\\lib\\site-packages (from tensorflow) (0.2.0)\n",
      "Requirement already satisfied: wrapt>=1.11.0 in c:\\users\\lenovo\\anaconda3\\lib\\site-packages (from tensorflow) (1.11.2)\n",
      "Requirement already satisfied: keras<2.8,>=2.7.0rc0 in c:\\users\\lenovo\\anaconda3\\lib\\site-packages (from tensorflow) (2.7.0)\n",
      "Requirement already satisfied: grpcio<2.0,>=1.24.3 in c:\\users\\lenovo\\anaconda3\\lib\\site-packages (from tensorflow) (1.41.1)\n",
      "Requirement already satisfied: gast<0.5.0,>=0.2.1 in c:\\users\\lenovo\\anaconda3\\lib\\site-packages (from tensorflow) (0.4.0)\n",
      "Requirement already satisfied: libclang>=9.0.1 in c:\\users\\lenovo\\anaconda3\\lib\\site-packages (from tensorflow) (12.0.0)\n",
      "Requirement already satisfied: absl-py>=0.4.0 in c:\\users\\lenovo\\anaconda3\\lib\\site-packages (from tensorflow) (1.0.0)\n",
      "Requirement already satisfied: opt-einsum>=2.3.2 in c:\\users\\lenovo\\anaconda3\\lib\\site-packages (from tensorflow) (3.3.0)\n",
      "Requirement already satisfied: tensorflow-io-gcs-filesystem>=0.21.0 in c:\\users\\lenovo\\anaconda3\\lib\\site-packages (from tensorflow) (0.22.0)\n",
      "Requirement already satisfied: astunparse>=1.6.0 in c:\\users\\lenovo\\anaconda3\\lib\\site-packages (from tensorflow) (1.6.3)\n",
      "Requirement already satisfied: numpy>=1.14.5 in c:\\users\\lenovo\\anaconda3\\lib\\site-packages (from tensorflow) (1.18.5)\n",
      "Requirement already satisfied: protobuf>=3.9.2 in c:\\users\\lenovo\\anaconda3\\lib\\site-packages (from tensorflow) (3.19.1)\n",
      "Requirement already satisfied: tensorflow-estimator<2.8,~=2.7.0rc0 in c:\\users\\lenovo\\anaconda3\\lib\\site-packages (from tensorflow) (2.7.0)\n",
      "Requirement already satisfied: wheel<1.0,>=0.32.0 in c:\\users\\lenovo\\anaconda3\\lib\\site-packages (from tensorflow) (0.34.2)\n",
      "Requirement already satisfied: google-auth-oauthlib<0.5,>=0.4.1 in c:\\users\\lenovo\\anaconda3\\lib\\site-packages (from tensorboard~=2.6->tensorflow) (0.4.6)\n",
      "Requirement already satisfied: tensorboard-plugin-wit>=1.6.0 in c:\\users\\lenovo\\anaconda3\\lib\\site-packages (from tensorboard~=2.6->tensorflow) (1.8.0)\n",
      "Requirement already satisfied: werkzeug>=0.11.15 in c:\\users\\lenovo\\anaconda3\\lib\\site-packages (from tensorboard~=2.6->tensorflow) (1.0.1)\n",
      "Requirement already satisfied: google-auth<3,>=1.6.3 in c:\\users\\lenovo\\anaconda3\\lib\\site-packages (from tensorboard~=2.6->tensorflow) (2.3.3)\n",
      "Requirement already satisfied: markdown>=2.6.8 in c:\\users\\lenovo\\anaconda3\\lib\\site-packages (from tensorboard~=2.6->tensorflow) (3.3.4)\n",
      "Requirement already satisfied: requests<3,>=2.21.0 in c:\\users\\lenovo\\anaconda3\\lib\\site-packages (from tensorboard~=2.6->tensorflow) (2.24.0)\n",
      "Requirement already satisfied: tensorboard-data-server<0.7.0,>=0.6.0 in c:\\users\\lenovo\\anaconda3\\lib\\site-packages (from tensorboard~=2.6->tensorflow) (0.6.1)\n",
      "Requirement already satisfied: setuptools>=41.0.0 in c:\\users\\lenovo\\anaconda3\\lib\\site-packages (from tensorboard~=2.6->tensorflow) (49.2.0.post20200714)\n",
      "Requirement already satisfied: requests-oauthlib>=0.7.0 in c:\\users\\lenovo\\anaconda3\\lib\\site-packages (from google-auth-oauthlib<0.5,>=0.4.1->tensorboard~=2.6->tensorflow) (1.3.0)\n",
      "Requirement already satisfied: rsa<5,>=3.1.4; python_version >= \"3.6\" in c:\\users\\lenovo\\anaconda3\\lib\\site-packages (from google-auth<3,>=1.6.3->tensorboard~=2.6->tensorflow) (4.7.2)\n",
      "Requirement already satisfied: pyasn1-modules>=0.2.1 in c:\\users\\lenovo\\anaconda3\\lib\\site-packages (from google-auth<3,>=1.6.3->tensorboard~=2.6->tensorflow) (0.2.8)Note: you may need to restart the kernel to use updated packages.\n",
      "Requirement already satisfied: cachetools<5.0,>=2.0.0 in c:\\users\\lenovo\\anaconda3\\lib\\site-packages (from google-auth<3,>=1.6.3->tensorboard~=2.6->tensorflow) (4.2.4)\n",
      "Requirement already satisfied: urllib3!=1.25.0,!=1.25.1,<1.26,>=1.21.1 in c:\\users\\lenovo\\anaconda3\\lib\\site-packages (from requests<3,>=2.21.0->tensorboard~=2.6->tensorflow) (1.25.9)\n",
      "Requirement already satisfied: chardet<4,>=3.0.2 in c:\\users\\lenovo\\anaconda3\\lib\\site-packages (from requests<3,>=2.21.0->tensorboard~=2.6->tensorflow) (3.0.4)\n",
      "Requirement already satisfied: idna<3,>=2.5 in c:\\users\\lenovo\\anaconda3\\lib\\site-packages (from requests<3,>=2.21.0->tensorboard~=2.6->tensorflow) (2.10)\n",
      "Requirement already satisfied: certifi>=2017.4.17 in c:\\users\\lenovo\\anaconda3\\lib\\site-packages (from requests<3,>=2.21.0->tensorboard~=2.6->tensorflow) (2020.6.20)\n",
      "Requirement already satisfied: oauthlib>=3.0.0 in c:\\users\\lenovo\\anaconda3\\lib\\site-packages (from requests-oauthlib>=0.7.0->google-auth-oauthlib<0.5,>=0.4.1->tensorboard~=2.6->tensorflow) (3.1.1)\n",
      "Requirement already satisfied: pyasn1>=0.1.3 in c:\\users\\lenovo\\anaconda3\\lib\\site-packages (from rsa<5,>=3.1.4; python_version >= \"3.6\"->google-auth<3,>=1.6.3->tensorboard~=2.6->tensorflow) (0.4.8)\n",
      "\n"
     ]
    }
   ],
   "source": [
    "pip install tensorflow"
   ]
  },
  {
   "cell_type": "code",
   "execution_count": 81,
   "metadata": {},
   "outputs": [],
   "source": [
    "X=pd.read_csv(\"C:/Users/LENOVO/MDS PROJECT 2/X_data_normal.csv\")"
   ]
  },
  {
   "cell_type": "code",
   "execution_count": 82,
   "metadata": {},
   "outputs": [],
   "source": [
    "Y=pd.read_csv(\"C:/Users/LENOVO/MDS PROJECT 2/Y_data1.csv\")"
   ]
  },
  {
   "cell_type": "code",
   "execution_count": 83,
   "metadata": {},
   "outputs": [
    {
     "name": "stdout",
     "output_type": "stream",
     "text": [
      "     0.298429319         0  1  0.1  0.2   0.3  1.1  0.4  0.058309038  \\\n",
      "0       0.298429  0.000000  1    0    0  0.00  1.0    0     0.058309   \n",
      "1       0.298429  0.000000  1    0    0  0.50  1.0    0     0.230321   \n",
      "2       0.518325  0.047619  1    0    1  0.75  0.5    0     0.384840   \n",
      "3       0.518325  0.047619  1    0    1  0.75  0.0    0     0.373178   \n",
      "4       0.298429  0.047619  1    0    0  0.75  0.5    0     0.384840   \n",
      "..           ...       ... ..  ...  ...   ...  ...  ...          ...   \n",
      "194     0.157068  1.000000  1    0    1  0.75  1.0    0     0.655977   \n",
      "195     0.157068  1.000000  1    1    1  0.75  1.0    0     0.655977   \n",
      "196     0.157068  1.000000  1    0    1  0.75  1.0    0     0.655977   \n",
      "197     0.157068  1.000000  0    1    1  0.75  1.0    0     0.655977   \n",
      "198     0.157068  1.000000  1    1    1  0.75  1.0    0     0.655977   \n",
      "\n",
      "     0.413432836  ...  0.260377358  0.714285714  0.664285714  0.29047619  \\\n",
      "0       0.413433  ...     0.260377     0.714286     0.664286    0.290476   \n",
      "1       0.449254  ...     0.343396     0.714286     0.100000    0.666667   \n",
      "2       0.529851  ...     0.181132     0.714286     0.464286    0.633333   \n",
      "3       0.529851  ...     0.283019     0.714286     0.464286    0.633333   \n",
      "4       0.540299  ...     0.283019     0.714286     0.464286    0.633333   \n",
      "..           ...  ...          ...          ...          ...         ...   \n",
      "194     0.711940  ...     0.301887     0.714286     0.885714    0.514286   \n",
      "195     0.711940  ...     0.301887     0.714286     0.885714    0.514286   \n",
      "196     0.711940  ...     0.422642     0.714286     0.742857    0.380952   \n",
      "197     0.711940  ...     0.316981     0.428571     0.335714    0.633333   \n",
      "198     0.711940  ...     0.301887     0.714286     0.885714    0.514286   \n",
      "\n",
      "       0.125  0.416248205  0.346938776  0.222222222  0.289473684  0.20795889  \n",
      "0    0.12500     0.416248     0.346939     0.222222     0.289474    0.282558  \n",
      "1    0.12500     0.582482     0.346939     0.166667     0.263158    0.282558  \n",
      "2    0.18750     0.381455     0.551020     0.305556     0.368421    0.219254  \n",
      "3    0.06250     0.431712     0.551020     0.138889     0.157895    0.306142  \n",
      "4    0.09375     0.412382     0.551020     0.166667     0.236842    0.251527  \n",
      "..       ...          ...          ...          ...          ...         ...  \n",
      "194  0.15625     0.427846     0.510204     0.277778     0.315789    0.291123  \n",
      "195  0.10625     0.605678     0.469388     0.166667     0.236842    0.345738  \n",
      "196  0.11250     0.505164     0.551020     0.138889     0.184211    0.406311  \n",
      "197  1.00000     0.396919     0.265306     0.361111     0.289474    0.430763  \n",
      "198  0.15625     0.427846     0.510204     0.166667     0.236842    0.434611  \n",
      "\n",
      "[199 rows x 25 columns]\n",
      "(199, 25)\n"
     ]
    }
   ],
   "source": [
    "#X=np.asarray(X).astype(np.float32)\n",
    "#Y=np.asarray(Y).astype(np.float32)\n",
    "X_normalise=X\n",
    "print(X_normalise)\n",
    "print(X_normalise.shape)"
   ]
  },
  {
   "cell_type": "code",
   "execution_count": 62,
   "metadata": {},
   "outputs": [],
   "source": [
    "#import sklearn\n",
    "#sklearn.preprocessing.normalize(X, norm='max', axis=0, copy=True, return_norm=False)"
   ]
  },
  {
   "cell_type": "code",
   "execution_count": 84,
   "metadata": {},
   "outputs": [
    {
     "name": "stdout",
     "output_type": "stream",
     "text": [
      "(199, 25)\n",
      "(199, 1)\n"
     ]
    }
   ],
   "source": [
    "print(X.shape)\n",
    "print(Y.shape)"
   ]
  },
  {
   "cell_type": "code",
   "execution_count": 85,
   "metadata": {},
   "outputs": [],
   "source": [
    "import keras.losses\n",
    "\n",
    "\n",
    "sparse_categorial_crossentropy = keras.losses.SparseCategoricalCrossentropy()"
   ]
  },
  {
   "cell_type": "code",
   "execution_count": 86,
   "metadata": {},
   "outputs": [],
   "source": [
    "def split_data(X, y, test_size=0.1, valid_size=0.1):\n",
    "    # split training set and testing set\n",
    "    X_train, X_test, y_train, y_test = train_test_split(X, y, test_size=test_size, random_state=7)\n",
    "    # split training set and validation set\n",
    "    X_train, X_valid, y_train, y_valid = train_test_split(X_train, y_train, test_size=valid_size, random_state=7)\n",
    "    # return a dictionary of values\n",
    "    return {\n",
    "        \"X_train\": X_train,\n",
    "        \"X_valid\": X_valid,\n",
    "        \"X_test\": X_test,\n",
    "        \"y_train\": y_train,\n",
    "        \"y_valid\": y_valid,\n",
    "        \"y_test\": y_test\n",
    "    }"
   ]
  },
  {
   "cell_type": "code",
   "execution_count": 173,
   "metadata": {},
   "outputs": [
    {
     "name": "stdout",
     "output_type": "stream",
     "text": [
      "(161, 25)\n",
      "(18, 25)\n"
     ]
    }
   ],
   "source": [
    "data = split_data(X, Y, test_size=0.1, valid_size=0.1)\n",
    "print(data[\"X_train\"].shape)\n",
    "print(data[\"X_valid\"].shape)"
   ]
  },
  {
   "cell_type": "code",
   "execution_count": null,
   "metadata": {},
   "outputs": [],
   "source": []
  },
  {
   "cell_type": "code",
   "execution_count": 189,
   "metadata": {},
   "outputs": [],
   "source": [
    "\n",
    "    model = Sequential()\n",
    "    model.add(Dense(13,activation=\"tanh\"))\n",
    "    \n",
    "    model.add(Dense(12,activation=\"relu\"))\n",
    "    model.add(Dense(11,activation=\"relu\"))\n",
    "    model.add(Dense(10,activation=\"relu\"))\n",
    "   \n",
    "    model.add(Dense(9,activation=\"relu\"))\n",
    "    model.add(Dense(8,activation=\"relu\"))\n",
    "    model.add(Dense(6,activation=\"relu\"))\n",
    "\n",
    "    model.compile(loss=sparse_categorial_crossentropy, metrics=[\"accuracy\"], optimizer=\"adam\")\n",
    "    \n",
    "   \n",
    "\n",
    "\n"
   ]
  },
  {
   "cell_type": "code",
   "execution_count": 190,
   "metadata": {},
   "outputs": [
    {
     "ename": "ValueError",
     "evalue": "This model has not yet been built. Build the model first by calling `build()` or by calling the model on a batch of data.",
     "output_type": "error",
     "traceback": [
      "\u001b[1;31m---------------------------------------------------------------------------\u001b[0m",
      "\u001b[1;31mValueError\u001b[0m                                Traceback (most recent call last)",
      "\u001b[1;32m<ipython-input-190-5f15418b3570>\u001b[0m in \u001b[0;36m<module>\u001b[1;34m\u001b[0m\n\u001b[1;32m----> 1\u001b[1;33m \u001b[0mmodel\u001b[0m\u001b[1;33m.\u001b[0m\u001b[0msummary\u001b[0m\u001b[1;33m(\u001b[0m\u001b[1;33m)\u001b[0m\u001b[1;33m\u001b[0m\u001b[1;33m\u001b[0m\u001b[0m\n\u001b[0m",
      "\u001b[1;32m~\\anaconda3\\lib\\site-packages\\keras\\engine\\training.py\u001b[0m in \u001b[0;36msummary\u001b[1;34m(self, line_length, positions, print_fn, expand_nested)\u001b[0m\n\u001b[0;32m   2577\u001b[0m     \"\"\"\n\u001b[0;32m   2578\u001b[0m     \u001b[1;32mif\u001b[0m \u001b[1;32mnot\u001b[0m \u001b[0mself\u001b[0m\u001b[1;33m.\u001b[0m\u001b[0mbuilt\u001b[0m\u001b[1;33m:\u001b[0m\u001b[1;33m\u001b[0m\u001b[1;33m\u001b[0m\u001b[0m\n\u001b[1;32m-> 2579\u001b[1;33m       raise ValueError(\n\u001b[0m\u001b[0;32m   2580\u001b[0m           \u001b[1;34m'This model has not yet been built. '\u001b[0m\u001b[1;33m\u001b[0m\u001b[1;33m\u001b[0m\u001b[0m\n\u001b[0;32m   2581\u001b[0m           \u001b[1;34m'Build the model first by calling `build()` or by calling '\u001b[0m\u001b[1;33m\u001b[0m\u001b[1;33m\u001b[0m\u001b[0m\n",
      "\u001b[1;31mValueError\u001b[0m: This model has not yet been built. Build the model first by calling `build()` or by calling the model on a batch of data."
     ]
    }
   ],
   "source": [
    "model.summary()\n"
   ]
  },
  {
   "cell_type": "code",
   "execution_count": 191,
   "metadata": {},
   "outputs": [
    {
     "name": "stdout",
     "output_type": "stream",
     "text": [
      "Epoch 1/2000\n",
      "2/2 [==============================] - 1s 202ms/step - loss: nan - accuracy: 0.1739 - val_loss: nan - val_accuracy: 0.2778\n",
      "Epoch 2/2000\n",
      "2/2 [==============================] - 0s 33ms/step - loss: nan - accuracy: 0.3230 - val_loss: nan - val_accuracy: 0.2778\n",
      "Epoch 3/2000\n",
      "2/2 [==============================] - 0s 31ms/step - loss: nan - accuracy: 0.3230 - val_loss: nan - val_accuracy: 0.2778\n",
      "Epoch 4/2000\n",
      "2/2 [==============================] - 0s 30ms/step - loss: nan - accuracy: 0.3230 - val_loss: nan - val_accuracy: 0.2778\n",
      "Epoch 5/2000\n",
      "2/2 [==============================] - 0s 33ms/step - loss: nan - accuracy: 0.3230 - val_loss: nan - val_accuracy: 0.2778\n"
     ]
    },
    {
     "name": "stderr",
     "output_type": "stream",
     "text": [
      "C:\\Users\\LENOVO\\anaconda3\\lib\\site-packages\\keras\\callbacks.py:1855: RuntimeWarning: invalid value encountered in less\n",
      "  return self.monitor_op(monitor_value - self.min_delta, reference_value)\n"
     ]
    },
    {
     "data": {
      "text/plain": [
       "<keras.callbacks.History at 0x1e110118070>"
      ]
     },
     "execution_count": 191,
     "metadata": {},
     "output_type": "execute_result"
    }
   ],
   "source": [
    "logdir = os.path.join(\"logs\", datetime.datetime.now().strftime(\"%Y%m%d-%H%M%S\"))\n",
    "tensorboard = TensorBoard(logdir)\n",
    "# define early stopping to stop training after 5 epochs of not improving\n",
    "batch_size = 100\n",
    "\n",
    "epochs = 2000\n",
    "# train the model using the training set and validating using validation set\n",
    "model.fit(data[\"X_train\"], data[\"y_train\"], epochs=epochs, batch_size=batch_size, validation_data=(data[\"X_valid\"], data[\"y_valid\"]),\n",
    "          callbacks=[tensorboard, early_stopping])\n",
    "\n"
   ]
  },
  {
   "cell_type": "code",
   "execution_count": 177,
   "metadata": {},
   "outputs": [
    {
     "name": "stdout",
     "output_type": "stream",
     "text": [
      "6/6 [==============================] - 0s 1ms/step - loss: nan - accuracy: 0.3230\n",
      "Accuracy: 32.30\n"
     ]
    }
   ],
   "source": [
    "_, accuracy = model.evaluate(data[\"X_train\"], data[\"y_train\"])\n",
    "print('Accuracy: %.2f' % (accuracy*100))"
   ]
  },
  {
   "cell_type": "code",
   "execution_count": 172,
   "metadata": {},
   "outputs": [
    {
     "name": "stdout",
     "output_type": "stream",
     "text": [
      "1/1 [==============================] - 0s 18ms/step - loss: nan - accuracy: 0.4000\n",
      "Accuracy: 40.00\n"
     ]
    }
   ],
   "source": [
    "_, accuracy = model.evaluate(data[\"X_test\"], data[\"y_test\"])\n",
    "print('Accuracy: %.2f' % (accuracy*100))"
   ]
  },
  {
   "cell_type": "code",
   "execution_count": 168,
   "metadata": {},
   "outputs": [
    {
     "name": "stdout",
     "output_type": "stream",
     "text": [
      "1/1 [==============================] - 0s 18ms/step - loss: nan - accuracy: 0.2778\n",
      "Accuracy: 27.78\n"
     ]
    }
   ],
   "source": [
    "_, accuracy = model.evaluate(data[\"X_valid\"], data[\"y_valid\"])\n",
    "print('Accuracy: %.2f' % (accuracy*100))"
   ]
  },
  {
   "cell_type": "code",
   "execution_count": 96,
   "metadata": {},
   "outputs": [
    {
     "name": "stdout",
     "output_type": "stream",
     "text": [
      "7/7 [==============================] - 0s 2ms/step - loss: nan - accuracy: 0.3266\n"
     ]
    },
    {
     "data": {
      "text/plain": [
       "<keras.callbacks.History at 0x1e17cd29af0>"
      ]
     },
     "execution_count": 96,
     "metadata": {},
     "output_type": "execute_result"
    }
   ],
   "source": [
    "\n",
    "X=X.astype(np.float)\n",
    "Y=Y.astype(np.float)\n",
    "model.fit(X,Y)"
   ]
  }
 ],
 "metadata": {
  "kernelspec": {
   "display_name": "Python 3",
   "language": "python",
   "name": "python3"
  },
  "language_info": {
   "codemirror_mode": {
    "name": "ipython",
    "version": 3
   },
   "file_extension": ".py",
   "mimetype": "text/x-python",
   "name": "python",
   "nbconvert_exporter": "python",
   "pygments_lexer": "ipython3",
   "version": "3.8.3"
  }
 },
 "nbformat": 4,
 "nbformat_minor": 4
}
